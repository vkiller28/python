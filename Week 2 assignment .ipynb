{
 "cells": [
  {
   "cell_type": "code",
   "execution_count": 1,
   "id": "4ebb0f12",
   "metadata": {},
   "outputs": [
    {
     "name": "stdout",
     "output_type": "stream",
     "text": [
      "Mukul mhatre EXTC 'B''36' Week 2 assignment.\n"
     ]
    }
   ],
   "source": [
    "print(\"Mukul mhatre EXTC 'B''36' Week 2 assignment.\")"
   ]
  },
  {
   "cell_type": "code",
   "execution_count": null,
   "id": "78d16b0d",
   "metadata": {},
   "outputs": [],
   "source": [
    "#Assignment 2 Section A"
   ]
  },
  {
   "cell_type": "code",
   "execution_count": 5,
   "id": "e57497fb",
   "metadata": {},
   "outputs": [],
   "source": [
    "#1. Create a function that takes three integer arguments (a, b, c) and returns the amount of integers which are of equal value.integers which are of equal value.\n",
    "\n",
    "def equal(a,b,c):\n",
    "    ''' takes three integer arguments (a, b, c) and returns the amount of integers which are of equal value'''\n",
    "    try:\n",
    "        if (a==b) and (a==c):\n",
    "            return 3\n",
    "        elif (a==b) or (a==c)or(b==c):\n",
    "            return 2\n",
    "        else :\n",
    "            return 0\n",
    "    except Exception as e:\n",
    "        print(e)\n",
    "        logging.info(f'Error Occured: {e}')"
   ]
  },
  {
   "cell_type": "code",
   "execution_count": 9,
   "id": "572dbb72",
   "metadata": {},
   "outputs": [
    {
     "data": {
      "text/plain": [
       "2"
      ]
     },
     "execution_count": 9,
     "metadata": {},
     "output_type": "execute_result"
    }
   ],
   "source": [
    "equal(3,2,3)"
   ]
  },
  {
   "cell_type": "code",
   "execution_count": 12,
   "id": "5888228a",
   "metadata": {},
   "outputs": [],
   "source": [
    "#2 Write a function that converts a dictionary into a list of keys-values tuples\n",
    "def dict_to_list(d):\n",
    "    '''converts a dictionary into a list of keys-values tuples'''\n",
    "    try:\n",
    "        l = [(i, d[i]) for i in d]\n",
    "        return sorted(l)\n",
    "    except Exception as e:\n",
    "        print(e)\n",
    "        logging.info(f'Error Occured: {e}')"
   ]
  },
  {
   "cell_type": "code",
   "execution_count": 13,
   "id": "0431cb07",
   "metadata": {},
   "outputs": [
    {
     "data": {
      "text/plain": [
       "[('B', 2), ('C', 3), ('D', 1)]"
      ]
     },
     "execution_count": 13,
     "metadata": {},
     "output_type": "execute_result"
    }
   ],
   "source": [
    "dict_to_list({\n",
    "'D': 1,\n",
    "'B': 2,\n",
    "'C': 3\n",
    "})"
   ]
  },
  {
   "cell_type": "code",
   "execution_count": 14,
   "id": "f760f91d",
   "metadata": {},
   "outputs": [],
   "source": [
    "#3 Write a function that creates a dictionary with each (key, value) pair being the (lower case,upper case) versions of a letter, respectively.\n",
    "\n",
    "def mapping(l):\n",
    "    '''creates a dictionary with each (key, value) pair being the (lower case, upper case) versions of a letter, respectively.'''\n",
    "    try:\n",
    "        return {i:i.upper() for i in l}\n",
    "    except Exception as e:\n",
    "        print(e)\n",
    "        logging.info(f'Error Occured: {e}')"
   ]
  },
  {
   "cell_type": "code",
   "execution_count": 15,
   "id": "62877fdc",
   "metadata": {},
   "outputs": [
    {
     "data": {
      "text/plain": [
       "{'a': 'A', 'v': 'V', 'y': 'Y', 'z': 'Z'}"
      ]
     },
     "execution_count": 15,
     "metadata": {},
     "output_type": "execute_result"
    }
   ],
   "source": [
    "mapping(['a', 'v', 'y', 'z'])"
   ]
  },
  {
   "cell_type": "code",
   "execution_count": 16,
   "id": "ecc244ee",
   "metadata": {},
   "outputs": [],
   "source": [
    "# 4 Write a function, that replaces all vowels in a string with a specified vowel.\n",
    "\n",
    "def vow_replace(st,re):\n",
    "    '''replaces all vowels in a string with a specified vowel.'''\n",
    "    try:\n",
    "        vo = ['a','e','i','o','u']\n",
    "        return ''.join([re if i in vo else i for i in st])\n",
    "    except Exception as e:\n",
    "        print(e)\n",
    "        logging.info(f'Error Occured: {e}')"
   ]
  },
  {
   "cell_type": "code",
   "execution_count": 17,
   "id": "1f43f1f1",
   "metadata": {},
   "outputs": [
    {
     "data": {
      "text/plain": [
       "'upplus und bununus'"
      ]
     },
     "execution_count": 17,
     "metadata": {},
     "output_type": "execute_result"
    }
   ],
   "source": [
    "vow_replace('apples and bananas', 'u')"
   ]
  },
  {
   "cell_type": "code",
   "execution_count": 18,
   "id": "b25bb7a4",
   "metadata": {},
   "outputs": [],
   "source": [
    "#5. Create a function that takes a string as input and capitalizes a letter if its ASCII code is evenand returns its lower case version if its ASCII code is odd.\n",
    "\n",
    "def ascii_capitalize(st):\n",
    "    '''capitalizes a letter if its ASCII code is even and returns its lower case version if its ASCII code is odd'''\n",
    "    try:\n",
    "        return ''.join([i.upper() if ord(i)%2==0 else i.lower() for i in st])\n",
    "    except Exception as e:\n",
    "        print(e)\n",
    "        logging.info(f'Error Occured: {e}')"
   ]
  },
  {
   "cell_type": "code",
   "execution_count": 19,
   "id": "5e041ccf",
   "metadata": {},
   "outputs": [
    {
     "data": {
      "text/plain": [
       "'To Be oR NoT To Be!'"
      ]
     },
     "execution_count": 19,
     "metadata": {},
     "output_type": "execute_result"
    }
   ],
   "source": [
    "ascii_capitalize('to be or not to be!')"
   ]
  },
  {
   "cell_type": "code",
   "execution_count": null,
   "id": "b72c4be2",
   "metadata": {},
   "outputs": [],
   "source": [
    "#Assignment 2 Section B"
   ]
  },
  {
   "cell_type": "code",
   "execution_count": 47,
   "id": "47c3389e",
   "metadata": {},
   "outputs": [],
   "source": [
    "#1. Create a function to print “Hello Python”\n",
    "def hello():\n",
    "    print(\"hello python\")\n",
    "    \n",
    "    "
   ]
  },
  {
   "cell_type": "code",
   "execution_count": 48,
   "id": "cbd5fdf7",
   "metadata": {},
   "outputs": [
    {
     "name": "stdout",
     "output_type": "stream",
     "text": [
      "hello python\n"
     ]
    }
   ],
   "source": [
    "hello()"
   ]
  },
  {
   "cell_type": "code",
   "execution_count": 8,
   "id": "c102d099",
   "metadata": {},
   "outputs": [
    {
     "name": "stdout",
     "output_type": "stream",
     "text": [
      "enter any number :25\n"
     ]
    }
   ],
   "source": [
    "#2.function to check a number even or odd\n",
    "def evenodd(num) :\n",
    "    if num% 2==0:\n",
    "        print(num,\"is an even number\")\n",
    "    else:\n",
    "        print(num,\"is an odd number\")\n",
    "num1 = int(input(\"enter any number :\"))\n"
   ]
  },
  {
   "cell_type": "code",
   "execution_count": 9,
   "id": "e40d0ff9",
   "metadata": {},
   "outputs": [
    {
     "name": "stdout",
     "output_type": "stream",
     "text": [
      "25 is an odd number\n"
     ]
    }
   ],
   "source": [
    "evenodd(num1)"
   ]
  },
  {
   "cell_type": "code",
   "execution_count": 10,
   "id": "ba68001c",
   "metadata": {},
   "outputs": [
    {
     "name": "stdout",
     "output_type": "stream",
     "text": [
      "Sum of the array is  123\n"
     ]
    }
   ],
   "source": [
    "#3.function to find the sum of array\n",
    "def _sum(arr):\n",
    " \n",
    "    # initialize a variable\n",
    "    # to store the sum\n",
    "    # while iterating through\n",
    "    # the array later\n",
    "    sum = 0\n",
    " \n",
    "    # iterate through the array\n",
    "    # and add each element to the sum variable\n",
    "    # one at a time\n",
    "    for i in arr:\n",
    "        sum = sum + i\n",
    " \n",
    "    return(sum)\n",
    " \n",
    " \n",
    "# driver function\n",
    "arr = []\n",
    "# input values to list\n",
    "arr = [44, 23, 41, 15]\n",
    " \n",
    "# calculating length of array\n",
    "n = len(arr)\n",
    " \n",
    "ans = _sum(arr)\n",
    " \n",
    "# display sum\n",
    "print('Sum of the array is ',ans)"
   ]
  },
  {
   "cell_type": "code",
   "execution_count": 11,
   "id": "41b12749",
   "metadata": {},
   "outputs": [
    {
     "data": {
      "text/plain": [
       "123"
      ]
     },
     "execution_count": 11,
     "metadata": {},
     "output_type": "execute_result"
    }
   ],
   "source": [
    "_sum(arr)"
   ]
  },
  {
   "cell_type": "code",
   "execution_count": 13,
   "id": "bb8a66e9",
   "metadata": {},
   "outputs": [
    {
     "name": "stdout",
     "output_type": "stream",
     "text": [
      "Largest in given array  890\n"
     ]
    }
   ],
   "source": [
    "#4.Function to find largest element in an array?\n",
    "def largest(arr, n):\n",
    " \n",
    "    # Initialize maximum element\n",
    "    max = arr[0]\n",
    " \n",
    "    # Traverse array elements from second\n",
    "    # and compare every element with\n",
    "    # current max\n",
    "    for i in range(1, n):\n",
    "        if arr[i] > max:\n",
    "            max = arr[i]\n",
    "    return max\n",
    " \n",
    " \n",
    "# Driver Code\n",
    "arr = [58, 890, 22, 65, 23]\n",
    "n = len(arr)\n",
    "Ans = largest(arr, n)\n",
    "print(\"Largest in given array \",Ans)"
   ]
  },
  {
   "cell_type": "code",
   "execution_count": 15,
   "id": "55c477ad",
   "metadata": {},
   "outputs": [
    {
     "data": {
      "text/plain": [
       "890"
      ]
     },
     "execution_count": 15,
     "metadata": {},
     "output_type": "execute_result"
    }
   ],
   "source": [
    "largest(arr, n)"
   ]
  },
  {
   "cell_type": "code",
   "execution_count": 16,
   "id": "d156e393",
   "metadata": {},
   "outputs": [],
   "source": [
    "import numpy"
   ]
  },
  {
   "cell_type": "code",
   "execution_count": 17,
   "id": "282dbe8a",
   "metadata": {},
   "outputs": [
    {
     "name": "stdout",
     "output_type": "stream",
     "text": [
      "The list is: [2, 51, -344, 7, 4, 85, -56]\n",
      "The product is: \n",
      "381561344\n"
     ]
    }
   ],
   "source": [
    "#5.Function to find sum of elements in list\n",
    "def multiply_numbers(list):\n",
    "   return numpy.prod(list)\n",
    "given_list = [2,51,-344,7,4,85,-56]\n",
    "print('The list is:',given_list)\n",
    "print(\"The product is: \")\n",
    "print(multiply_numbers(given_list))"
   ]
  },
  {
   "cell_type": "code",
   "execution_count": 18,
   "id": "bf86fd95",
   "metadata": {},
   "outputs": [
    {
     "data": {
      "text/plain": [
       "list"
      ]
     },
     "execution_count": 18,
     "metadata": {},
     "output_type": "execute_result"
    }
   ],
   "source": [
    "multiply_numbers(list)"
   ]
  },
  {
   "cell_type": "code",
   "execution_count": null,
   "id": "14a0a53b",
   "metadata": {},
   "outputs": [],
   "source": [
    "#Assignment 2 Section C"
   ]
  },
  {
   "cell_type": "code",
   "execution_count": 23,
   "id": "a865c0b3",
   "metadata": {},
   "outputs": [],
   "source": [
    "#1. Create a function that takes an integer and returns a list from 1 to the given number, where:\n",
    "# 1. If the number can be divided evenly by 4, amplify it by 10 (i.e. return 10 times the\n",
    "# number).\n",
    "# 2. If the number cannot be divided evenly by 4, simply return the number.\n",
    "\n",
    "def amplify(num):\n",
    "    '''Returns Amplify'''\n",
    "    try:\n",
    "        a = [i*10 if i%4==0 else i for i in range(num+1)]\n",
    "        return a\n",
    "    except Exception as e:\n",
    "        print(e)\n",
    "        logging.info(f'Error Occured: {e}')"
   ]
  },
  {
   "cell_type": "code",
   "execution_count": 24,
   "id": "30642d53",
   "metadata": {},
   "outputs": [
    {
     "data": {
      "text/plain": [
       "[0, 1, 2, 3, 40, 5, 6, 7, 80, 9, 10, 11, 120, 13, 14, 15, 160, 17, 18, 19, 200]"
      ]
     },
     "execution_count": 24,
     "metadata": {},
     "output_type": "execute_result"
    }
   ],
   "source": [
    "amplify(20)"
   ]
  },
  {
   "cell_type": "code",
   "execution_count": 25,
   "id": "274868a2",
   "metadata": {},
   "outputs": [],
   "source": [
    "#2. Create a function that takes a list of numbers and return the number that's unique.\n",
    "\n",
    "def unique(l):\n",
    "    '''Create a function that takes a list of numbers and return the number that's unique'''\n",
    "    try:\n",
    "        for i in range(len(l)):\n",
    "            if l[i] in l[i+1:]:\n",
    "                continue\n",
    "            else:\n",
    "                return l[i]\n",
    "    except Exception as e:\n",
    "        print(e)\n",
    "        logging.info(f'Error Occured: {e}')"
   ]
  },
  {
   "cell_type": "code",
   "execution_count": 26,
   "id": "4fdd8383",
   "metadata": {},
   "outputs": [
    {
     "data": {
      "text/plain": [
       "0"
      ]
     },
     "execution_count": 26,
     "metadata": {},
     "output_type": "execute_result"
    }
   ],
   "source": [
    "unique([0, 1, 1, 1, 1, 1, 1, 1])"
   ]
  },
  {
   "cell_type": "code",
   "execution_count": 30,
   "id": "14222067",
   "metadata": {},
   "outputs": [],
   "source": [
    "import math"
   ]
  },
  {
   "cell_type": "code",
   "execution_count": 31,
   "id": "37247b2f",
   "metadata": {},
   "outputs": [],
   "source": [
    "#3. Your task is to create a Circle constructor that creates a circle with a radius provided by an\n",
    "# argument. The circles constructed must have two getters getArea() (PIr^2) and getPerimeter()\n",
    "# (2PI*r) which give both respective areas and perimeter (circumference).\n",
    "# For help with this class, I have provided you with a Rectangle constructor which you can use as\n",
    "# a base example.\n",
    "\n",
    "class Circul:\n",
    "    def __init__(self,rad):\n",
    "        self.rad = rad\n",
    "    \n",
    "    def getArea(self):\n",
    "        a = math.pi*(self.rad**2)\n",
    "        return round(a)\n",
    "    \n",
    "    def getPerimeter(self):\n",
    "        p = math.pi*2*self.rad\n",
    "        return round(p)"
   ]
  },
  {
   "cell_type": "code",
   "execution_count": 32,
   "id": "d9d032b3",
   "metadata": {},
   "outputs": [
    {
     "data": {
      "text/plain": [
       "380"
      ]
     },
     "execution_count": 32,
     "metadata": {},
     "output_type": "execute_result"
    }
   ],
   "source": [
    "cir = Circul(11)\n",
    "cir.getArea()"
   ]
  },
  {
   "cell_type": "code",
   "execution_count": 33,
   "id": "2af4a50a",
   "metadata": {},
   "outputs": [
    {
     "data": {
      "text/plain": [
       "69"
      ]
     },
     "execution_count": 33,
     "metadata": {},
     "output_type": "execute_result"
    }
   ],
   "source": [
    "cir.getPerimeter()"
   ]
  },
  {
   "cell_type": "code",
   "execution_count": 34,
   "id": "d9223b74",
   "metadata": {},
   "outputs": [],
   "source": [
    "#4 Create a function that takes a list of strings and return a list, sorted from shortest to longest.\n",
    "def sort_by_length(l):\n",
    "    ''' takes a list of strings and return a list, sorted from shortest to longest.'''\n",
    "    try:\n",
    "        check = 0\n",
    "        while(check != len(l)-1):\n",
    "            check = 0\n",
    "            for i in range(len(l)-1):\n",
    "                if len(l[i])>len(l[i+1]):\n",
    "                    temp = l[i]\n",
    "                    l[i] = l[i+1]\n",
    "                    l[i+1] = temp\n",
    "                else:\n",
    "                    check += 1\n",
    "        return l\n",
    "    except Exception as e:\n",
    "        print(e)\n",
    "        logging.info(f'Error Occured: {e}')"
   ]
  },
  {
   "cell_type": "code",
   "execution_count": 35,
   "id": "9a46bfa6",
   "metadata": {},
   "outputs": [
    {
     "data": {
      "text/plain": [
       "['Apple', 'Google', 'Microsoft']"
      ]
     },
     "execution_count": 35,
     "metadata": {},
     "output_type": "execute_result"
    }
   ],
   "source": [
    "sort_by_length(['Google', 'Apple', 'Microsoft'])"
   ]
  },
  {
   "cell_type": "code",
   "execution_count": 36,
   "id": "50acf6ee",
   "metadata": {},
   "outputs": [],
   "source": [
    "#5 Create a function that validates whether three given integers form a Pythagorean triplet. The\n",
    "# sum of the squares of the two smallest integers must equal the square of the largest number to\n",
    "# be validated.\n",
    "def is_triplet(a,b,c):\n",
    "    '''That validates whether three given integers form a Pythagorean triplet'''\n",
    "    try:\n",
    "        tri = sorted([a,b,c])\n",
    "        cs = (tri[0]**2)+(tri[1]**2)\n",
    "        if tri[2]**2==cs:\n",
    "            return True \n",
    "        else:\n",
    "            return False\n",
    "    except Exception as e:\n",
    "        print(e)\n",
    "        logging.info(f'Error Occured: {e}')"
   ]
  },
  {
   "cell_type": "code",
   "execution_count": 37,
   "id": "c4b8d8cc",
   "metadata": {},
   "outputs": [
    {
     "data": {
      "text/plain": [
       "True"
      ]
     },
     "execution_count": 37,
     "metadata": {},
     "output_type": "execute_result"
    }
   ],
   "source": [
    "is_triplet(3, 4, 5)"
   ]
  }
 ],
 "metadata": {
  "kernelspec": {
   "display_name": "Python 3 (ipykernel)",
   "language": "python",
   "name": "python3"
  },
  "language_info": {
   "codemirror_mode": {
    "name": "ipython",
    "version": 3
   },
   "file_extension": ".py",
   "mimetype": "text/x-python",
   "name": "python",
   "nbconvert_exporter": "python",
   "pygments_lexer": "ipython3",
   "version": "3.9.13"
  }
 },
 "nbformat": 4,
 "nbformat_minor": 5
}
