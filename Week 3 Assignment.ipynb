{
 "cells": [
  {
   "cell_type": "code",
   "execution_count": 1,
   "id": "8f9a5ab9",
   "metadata": {},
   "outputs": [
    {
     "name": "stdout",
     "output_type": "stream",
     "text": [
      "Mukul mhatre EXTC 'B''36' 'Week 3 Assignment.'\n"
     ]
    }
   ],
   "source": [
    "print(\"Mukul mhatre EXTC 'B''36' 'Week 3 Assignment.'\")"
   ]
  },
  {
   "cell_type": "code",
   "execution_count": 3,
   "id": "70e2fc45",
   "metadata": {},
   "outputs": [],
   "source": [
    "class MyClass:\n",
    "  b = 50"
   ]
  },
  {
   "cell_type": "code",
   "execution_count": 8,
   "id": "908a8f5d",
   "metadata": {},
   "outputs": [],
   "source": [
    "class MyNewClass:\n",
    "    '''This is a docstring. I have created a new class'''\n",
    "    pass"
   ]
  },
  {
   "cell_type": "code",
   "execution_count": 9,
   "id": "cf4ed7ac",
   "metadata": {},
   "outputs": [],
   "source": [
    "class Book:\n",
    "    def __init__(self, title, quantity, author, price):\n",
    "        self.title = title\n",
    "        self.quantity = quantity\n",
    "        self.author = author\n",
    "        self.price = price"
   ]
  },
  {
   "cell_type": "code",
   "execution_count": 10,
   "id": "605036cf",
   "metadata": {},
   "outputs": [],
   "source": [
    "book1 = Book('Book 1', 12, 'Author 1', 170)\n",
    "book2 = Book('Book 2', 18, 'Author 2', 260)\n",
    "book3 = Book('Book 3', 28, 'Author 3', 370)"
   ]
  },
  {
   "cell_type": "code",
   "execution_count": 11,
   "id": "2bdb21fb",
   "metadata": {},
   "outputs": [
    {
     "name": "stdout",
     "output_type": "stream",
     "text": [
      "<__main__.Book object at 0x00000180F8C57D00>\n",
      "<__main__.Book object at 0x00000180F8C57C70>\n",
      "<__main__.Book object at 0x00000180F8C570D0>\n"
     ]
    }
   ],
   "source": [
    "print(book1)\n",
    "print(book2)\n",
    "print(book3)"
   ]
  },
  {
   "cell_type": "code",
   "execution_count": 12,
   "id": "9bd73176",
   "metadata": {},
   "outputs": [
    {
     "name": "stdout",
     "output_type": "stream",
     "text": [
      "Book: Book 1, Quantity: 12, Author: Author 1, Price: 120\n",
      "Book: Book 2, Quantity: 18, Author: Author 2, Price: 220\n",
      "Book: Book 3, Quantity: 28, Author: Author 3, Price: 320\n"
     ]
    }
   ],
   "source": [
    "class Book:\n",
    "    def __init__(self, title, quantity, author, price):\n",
    "        self.title = title\n",
    "        self.quantity = quantity\n",
    "        self.author = author\n",
    "        self.price = price\n",
    "\n",
    "    def __repr__(self):\n",
    "        return f\"Book: {self.title}, Quantity: {self.quantity}, Author: {self.author}, Price: {self.price}\"\n",
    "\n",
    "\n",
    "book1 = Book('Book 1', 12, 'Author 1', 120)\n",
    "book2 = Book('Book 2', 18, 'Author 2', 220)\n",
    "book3 = Book('Book 3', 28, 'Author 3', 320)\n",
    "\n",
    "print(book1)\n",
    "print(book2)\n",
    "print(book3)"
   ]
  },
  {
   "cell_type": "code",
   "execution_count": 17,
   "id": "e273965d",
   "metadata": {},
   "outputs": [
    {
     "name": "stdout",
     "output_type": "stream",
     "text": [
      "This is hdfc to kotak\n",
      "Total transaction value: \n",
      "This will show you your deposited account:\n",
      "deposited account\n",
      "this is test from HDFC\n",
      "This is iNeuron\n"
     ]
    }
   ],
   "source": [
    "class bank:\n",
    "    def traansaction(self):\n",
    "        print(\"Total transaction value: \")\n",
    "\n",
    "    def account_opening(self):\n",
    "        print(\"This will show you your deposited account:\")\n",
    "\n",
    "    def deposite(self):\n",
    "        print(\"deposited account\")\n",
    "\n",
    "    def test(self):\n",
    "        print(\"this is test from bank\")\n",
    "\n",
    "class HDFC_bank():\n",
    "    def hdfc_to_kotak(self):\n",
    "        print(\"This is hdfc to kotak\")\n",
    "\n",
    "    def test(self):\n",
    "        print(\"this is test from HDFC\")\n",
    "\n",
    "class iNeuron():\n",
    "    def account_status_kotak(self):\n",
    "        print(\"This is iNeuron\")\n",
    "\n",
    "class ICICI(HDFC_bank, bank, iNeuron):\n",
    "    def icici(self):\n",
    "        print(\"indepedent\")\n",
    "\n",
    "\n",
    "i=ICICI()\n",
    "\n",
    "i.hdfc_to_kotak()\n",
    "i.traansaction()\n",
    "i.account_opening()\n",
    "i.deposite()\n",
    "#.kotak()\n",
    "i.test()\n",
    "i.account_status_kotak()"
   ]
  },
  {
   "cell_type": "code",
   "execution_count": 18,
   "id": "26360c8a",
   "metadata": {},
   "outputs": [
    {
     "name": "stdout",
     "output_type": "stream",
     "text": [
      "Total transaction value: \n"
     ]
    }
   ],
   "source": [
    "class bank:\n",
    "    def traansaction(self):\n",
    "        print(\"Total transaction value: \")\n",
    "\n",
    "    def account_opening(self):\n",
    "        print(\"This will show you your deposited account:\")\n",
    "\n",
    "    def deposite(self):\n",
    "        print(\"deposited account\")\n",
    "\n",
    "    def test(self):\n",
    "        print(\"this is test from bank\")\n",
    "\n",
    "class HDFC_bank():\n",
    "    def hdfc_to_kotak(self):\n",
    "        print(\"This is hdfc to kotak\")\n",
    "\n",
    "    def test(self):\n",
    "        print(\"this is test from HDFC\")\n",
    "\n",
    "class iNeuron():\n",
    "    def account_status_kotak(self):\n",
    "        print(\"This is iNeuron\")\n",
    "\n",
    "class ICICI(HDFC_bank, bank, iNeuron):\n",
    "    def icici(self):\n",
    "        print(\"indepedent\")\n",
    "\n",
    "\n",
    "i=ICICI()\n",
    "\n",
    "#i.hdfc_to_kotak()\n",
    "i.traansaction()\n",
    "#i.account_opening()\n",
    "#i.deposite()\n",
    "#i.kotak()\n",
    "#i.test()\n",
    "#i.account_status_kotak()"
   ]
  },
  {
   "cell_type": "code",
   "execution_count": 19,
   "id": "95d5a229",
   "metadata": {},
   "outputs": [
    {
     "name": "stdout",
     "output_type": "stream",
     "text": [
      "This will show you your deposited account:\n"
     ]
    }
   ],
   "source": [
    "class bank:\n",
    "    def traansaction(self):\n",
    "        print(\"Total transaction value: \")\n",
    "\n",
    "    def account_opening(self):\n",
    "        print(\"This will show you your deposited account:\")\n",
    "\n",
    "    def deposite(self):\n",
    "        print(\"deposited account\")\n",
    "\n",
    "    def test(self):\n",
    "        print(\"this is test from bank\")\n",
    "\n",
    "class HDFC_bank():\n",
    "    def hdfc_to_kotak(self):\n",
    "        print(\"This is hdfc to kotak\")\n",
    "\n",
    "    def test(self):\n",
    "        print(\"this is test from HDFC\")\n",
    "\n",
    "class iNeuron():\n",
    "    def account_status_kotak(self):\n",
    "        print(\"This is iNeuron\")\n",
    "\n",
    "class ICICI(HDFC_bank, bank, iNeuron):\n",
    "    def icici(self):\n",
    "        print(\"indepedent\")\n",
    "\n",
    "\n",
    "i=ICICI()\n",
    "\n",
    "#i.hdfc_to_kotak()\n",
    "#i.traansaction()\n",
    "i.account_opening()\n",
    "#i.deposite()\n",
    "#i.kotak()\n",
    "#i.test()\n",
    "#i.account_status_kotak()"
   ]
  },
  {
   "cell_type": "code",
   "execution_count": 20,
   "id": "4755741a",
   "metadata": {},
   "outputs": [
    {
     "name": "stdout",
     "output_type": "stream",
     "text": [
      "deposited account\n"
     ]
    }
   ],
   "source": [
    "class bank:\n",
    "    def traansaction(self):\n",
    "        print(\"Total transaction value: \")\n",
    "\n",
    "    def account_opening(self):\n",
    "        print(\"This will show you your deposited account:\")\n",
    "\n",
    "    def deposite(self):\n",
    "        print(\"deposited account\")\n",
    "\n",
    "    def test(self):\n",
    "        print(\"this is test from bank\")\n",
    "\n",
    "class HDFC_bank():\n",
    "    def hdfc_to_kotak(self):\n",
    "        print(\"This is hdfc to kotak\")\n",
    "\n",
    "    def test(self):\n",
    "        print(\"this is test from HDFC\")\n",
    "\n",
    "class iNeuron():\n",
    "    def account_status_kotak(self):\n",
    "        print(\"This is iNeuron\")\n",
    "\n",
    "class ICICI(HDFC_bank, bank, iNeuron):\n",
    "    def icici(self):\n",
    "        print(\"indepedent\")\n",
    "\n",
    "\n",
    "i=ICICI()\n",
    "\n",
    "#i.hdfc_to_kotak()\n",
    "#i.traansaction()\n",
    "#i.account_opening()\n",
    "i.deposite()\n",
    "#i.kotak()\n",
    "#i.test()\n",
    "#i.account_status_kotak()"
   ]
  },
  {
   "cell_type": "code",
   "execution_count": 21,
   "id": "a27d5f23",
   "metadata": {},
   "outputs": [
    {
     "name": "stdout",
     "output_type": "stream",
     "text": [
      "indepedent\n"
     ]
    }
   ],
   "source": [
    "class bank:\n",
    "    def traansaction(self):\n",
    "        print(\"Total transaction value: \")\n",
    "\n",
    "    def account_opening(self):\n",
    "        print(\"This will show you your deposited account:\")\n",
    "\n",
    "    def deposite(self):\n",
    "        print(\"deposited account\")\n",
    "\n",
    "    def test(self):\n",
    "        print(\"this is test from bank\")\n",
    "\n",
    "class HDFC_bank():\n",
    "    def hdfc_to_kotak(self):\n",
    "        print(\"This is hdfc to kotak\")\n",
    "\n",
    "    def test(self):\n",
    "        print(\"this is test from HDFC\")\n",
    "\n",
    "class iNeuron():\n",
    "    def account_status_kotak(self):\n",
    "        print(\"This is iNeuron\")\n",
    "\n",
    "class kotak(HDFC_bank, bank, iNeuron):\n",
    "    def kotak(self):\n",
    "        print(\"indepedent\")\n",
    "\n",
    "\n",
    "i=kotak()\n",
    "#i.hdfc_to_kotak()\n",
    "#i.traansaction()\n",
    "#i.account_opening()\n",
    "#i.deposite()\n",
    "i.kotak()\n",
    "#i.test()\n",
    "#i.account_status_kotak()"
   ]
  },
  {
   "cell_type": "code",
   "execution_count": 22,
   "id": "3ccb7059",
   "metadata": {},
   "outputs": [
    {
     "name": "stdout",
     "output_type": "stream",
     "text": [
      "this is test from HDFC\n"
     ]
    }
   ],
   "source": [
    "class bank:\n",
    "    def traansaction(self):\n",
    "        print(\"Total transaction value: \")\n",
    "\n",
    "    def account_opening(self):\n",
    "        print(\"This will show you your deposited account:\")\n",
    "\n",
    "    def deposite(self):\n",
    "        print(\"deposited account\")\n",
    "\n",
    "    def test(self):\n",
    "        print(\"this is test from bank\")\n",
    "\n",
    "class HDFC_bank():\n",
    "    def hdfc_to_kotak(self):\n",
    "        print(\"This is hdfc to kotak\")\n",
    "\n",
    "    def test(self):\n",
    "        print(\"this is test from HDFC\")\n",
    "\n",
    "class iNeuron():\n",
    "    def account_status_kotak(self):\n",
    "        print(\"This is iNeuron\")\n",
    "\n",
    "class ICICI(HDFC_bank, bank, iNeuron):\n",
    "    def icici(self):\n",
    "        print(\"indepedent\")\n",
    "\n",
    "\n",
    "i=ICICI()\n",
    "\n",
    "#i.hdfc_to_kotak()\n",
    "#i.traansaction()\n",
    "#i.account_opening()\n",
    "#i.deposite()\n",
    "#i.kotak()\n",
    "i.test()\n",
    "#i.account_status_kotak()"
   ]
  },
  {
   "cell_type": "code",
   "execution_count": 24,
   "id": "51ed5dcd",
   "metadata": {},
   "outputs": [
    {
     "name": "stdout",
     "output_type": "stream",
     "text": [
      "Mithilesh\n",
      "21\n"
     ]
    }
   ],
   "source": [
    "#using __init__ function\n",
    "\n",
    "class Person:\n",
    "    \n",
    " def __init__(self, name, age):\n",
    "    self.name = name\n",
    "    self.age = age\n",
    "\n",
    "p1 = Person(\"Mithilesh\", 21)\n",
    "\n",
    "print(p1.name)\n",
    "print(p1.age)"
   ]
  },
  {
   "cell_type": "code",
   "execution_count": 25,
   "id": "333cb8ec",
   "metadata": {},
   "outputs": [
    {
     "name": "stdout",
     "output_type": "stream",
     "text": [
      "Hello my name is Mithilesh\n"
     ]
    }
   ],
   "source": [
    "#object methods\n",
    "class Person:\n",
    " def __init__(self, name, age):\n",
    "    self.name = name\n",
    "    self.age = age\n",
    "    \n",
    "#Objects can also contain methods. Methods in objects are functions that belong to the object.\n",
    "#Let us create a method in the Person class:\n",
    "\n",
    "\n",
    "   \n",
    " def myfunc(self):\n",
    "    print(\"Hello my name is \" + self.name)\n",
    "\n",
    "p1 = Person(\"Mithilesh\", 21)\n",
    "p1.myfunc()"
   ]
  },
  {
   "cell_type": "code",
   "execution_count": 26,
   "id": "1050c6e7",
   "metadata": {},
   "outputs": [
    {
     "name": "stdout",
     "output_type": "stream",
     "text": [
      "Hello my name is Mithilesh and surname is Patil\n"
     ]
    }
   ],
   "source": [
    "#The self parameter is a reference to the current instance of the class, and is used to access variables that belongs to the class.\n",
    "class Person:\n",
    "    \n",
    " def __init__(mysillyobject, name, sirname):\n",
    "    mysillyobject.name = name\n",
    "    mysillyobject.sirname = sirname\n",
    "\n",
    " def myfunc(abc):\n",
    "    print(\"Hello my name is \" + abc.name + \"and surname is \" + abc.sirname )\n",
    "\n",
    "p1 = Person(\"Mithilesh \", \"Patil\")\n",
    "p1.myfunc()"
   ]
  },
  {
   "cell_type": "code",
   "execution_count": 49,
   "id": "40b437b0",
   "metadata": {},
   "outputs": [
    {
     "ename": "IndentationError",
     "evalue": "unindent does not match any outer indentation level (<tokenize>, line 4)",
     "output_type": "error",
     "traceback": [
      "\u001b[1;36m  File \u001b[1;32m\"<tokenize>\"\u001b[1;36m, line \u001b[1;32m4\u001b[0m\n\u001b[1;33m    def __init__(self, name, salary):\u001b[0m\n\u001b[1;37m    ^\u001b[0m\n\u001b[1;31mIndentationError\u001b[0m\u001b[1;31m:\u001b[0m unindent does not match any outer indentation level\n"
     ]
    }
   ],
   "source": [
    "class Employee:\n",
    "   'Common base class for all employees'\n",
    "   empCount = 0 \n",
    " def __init__(self, name, salary):\n",
    "        self.name = name\n",
    "        self.salary = salary\n",
    "        Employee.empCount += 1\n",
    " def displayCount(self):\n",
    "        print( \"Total Employee %d\" % Employee.empCount)\n",
    "\n",
    " def displayEmployee(self):\n",
    "            print (\"Name : \", self.name,  \", Salary: \", self.salary)\n",
    "\n",
    "\n",
    "emp1 = Employee(\"mukul\", 99000)\n",
    "\n",
    "emp2 = Employee(\"sham\", 80000)\n",
    "\n",
    "emp3 = Employee(\"shraddha\", 100000)\n",
    "\n",
    "emp4 = Employee(\"Mithu\", 999999999)\n",
    "\n",
    "emp5 = Employee(\"sumit\", 1000500)\n",
    "\n",
    "emp1.displayEmployee()\n",
    "emp2.displayEmployee()\n",
    "emp3.displayEmployee()\n",
    "emp4.displayEmployee()\n",
    "emp5.displayEmployee()\n",
    "print (\"Total Employee %d\" % Employee.empCount)"
   ]
  },
  {
   "cell_type": "code",
   "execution_count": 37,
   "id": "8a95b580",
   "metadata": {},
   "outputs": [
    {
     "name": "stdout",
     "output_type": "stream",
     "text": [
      "Initial list of values of list01: []\n",
      "Updated list after adding values to it: [2, 20, 44, 12]\n",
      "Updated list after removing value 12 is:  [2, 20, 44]\n"
     ]
    }
   ],
   "source": [
    "class NumList:\n",
    "    def __init__(self):\n",
    "        self.__list = [] \n",
    "    \n",
    "    def add_value(self, val):\n",
    "        self.__list.append(val)\n",
    "    \n",
    "    def remove_value(self):\n",
    "        rv = self.__list[-1]\n",
    "        del self.__list[-1]\n",
    "        return rv\n",
    "    \n",
    "    def print_list(self):\n",
    "        return self.__list\n",
    "\n",
    "list01 = NumList()\n",
    "print('Initial list of values of list01:', list01.print_list())\n",
    "list01.add_value(2)\n",
    "list01.add_value(20)\n",
    "list01.add_value(44)\n",
    "list01.add_value(12)\n",
    "print('Updated list after adding values to it:', list01.print_list())\n",
    "val = list01.remove_value()\n",
    "print('Updated list after removing value %s is: ' % (val), list01.print_list())"
   ]
  },
  {
   "cell_type": "code",
   "execution_count": 38,
   "id": "cf3e8bbe",
   "metadata": {},
   "outputs": [
    {
     "name": "stdout",
     "output_type": "stream",
     "text": [
      "Initial list of values list02: []\n",
      "Updated list after adding values to it: [2000, 500, 44444, 122222]\n",
      "Updated list after removing value 122222 is:  [2000, 500, 44444]\n"
     ]
    }
   ],
   "source": [
    "list02 = NumList()\n",
    "print('Initial list of values list02:', list02.print_list())\n",
    "list02.add_value(2000)\n",
    "list02.add_value(500)\n",
    "list02.add_value(44444)\n",
    "list02.add_value(122222)\n",
    "print('Updated list after adding values to it:', list02.print_list())\n",
    "val = list02.remove_value()\n",
    "print('Updated list after removing value %s is: ' % (val), list02.print_list())"
   ]
  },
  {
   "cell_type": "code",
   "execution_count": 39,
   "id": "d98c22cc",
   "metadata": {},
   "outputs": [
    {
     "name": "stdout",
     "output_type": "stream",
     "text": [
      "This is a Electric car of colour green\n",
      "This car is ecofriendly!\n"
     ]
    }
   ],
   "source": [
    "# Class creation\n",
    "class Car:\n",
    "  # Initializer Method\n",
    "  def __init__(self):\n",
    "    # Instance variables\n",
    "    self.color = 'Black'\n",
    "    self.fuel_type = 'Petrol'\n",
    "  # Creating a class method\n",
    "  @classmethod\n",
    "  def details(cls, color, fuel_type):\n",
    "    print(\"This is a {} car of colour {}\".format(fuel_type, color))\n",
    "  # Creating a class method \n",
    "  @staticmethod\n",
    "  def ecofriendly(fuel_type):\n",
    "    if fuel_type.lower()=='electric':\n",
    "      print(\"This car is ecofriendly!\")\n",
    "    else:\n",
    "      print(\"This car is not ecofriendly!\")\n",
    "# Object Creation\n",
    "SUV = Car()\n",
    "SUV.details('green', 'Electric')\n",
    "SUV.ecofriendly('Electric')"
   ]
  },
  {
   "cell_type": "code",
   "execution_count": 41,
   "id": "aacd5a3a",
   "metadata": {},
   "outputs": [
    {
     "name": "stdout",
     "output_type": "stream",
     "text": [
      "The color of this Bike is : Black\n"
     ]
    }
   ],
   "source": [
    "# Parent Class\n",
    "class Vehicle:\n",
    "  def __init__(self):\n",
    "    self.color = 'Black'\n",
    "  def fuel_type(self):\n",
    "    print(\"This is an Electric Vehicle\")\n",
    "# Child Class\n",
    "class Bike(Vehicle):\n",
    "  def __init__(self):\n",
    "    # Inherit the initializer method of parent class\n",
    "    super().__init__()\n",
    "  \n",
    "  # Method to use the attributes of parent class\n",
    "  def details(self):\n",
    "    print(\"The color of this Bike is :\", self.color)\n",
    "# Object for child class\n",
    "Superbike = Bike()\n",
    "# Access the method of child class\n",
    "Superbike.details()"
   ]
  },
  {
   "cell_type": "code",
   "execution_count": 43,
   "id": "adac9525",
   "metadata": {},
   "outputs": [],
   "source": [
    "class car:\n",
    "    def __init__(self, milage, year, make, model,engineno):\n",
    "        self.milage = milage\n",
    "        self.year = year\n",
    "        self.make = make\n",
    "        self.model = model\n",
    "        self.engineno = engineno\n",
    "        "
   ]
  },
  {
   "cell_type": "code",
   "execution_count": 44,
   "id": "ce8d5970",
   "metadata": {},
   "outputs": [],
   "source": [
    "nano1 = car(13, 2022, \"audi\", \"sass\", 2332)\n",
    "audiq71 = car(9, 2020, \"audi\",\"q7\",2342342)\n",
    "nano2 = car(13, 2022, \"weew\", \"sass\", 2332)\n",
    "audiq72 = car(11, 2021, \"weqq\",\"qweq\",2342342)\n",
    "nano3 = car(13, 2022, \"weew\", \"sass\", 2332)\n",
    "audiq73 = car(11, 2021, \"weqq\",\"qweq\",2342342)\n",
    "nano4 = car(13, 2022, \"weew\", \"sass\", 2332)\n",
    "audiq74 = car(11, 2021, \"weqq\",\"qweq\",2342342)"
   ]
  },
  {
   "cell_type": "code",
   "execution_count": 45,
   "id": "dbde77c8",
   "metadata": {},
   "outputs": [],
   "source": [
    "audiq71 = car(9, 2020, \"audi\",\"q7\",2342342)"
   ]
  },
  {
   "cell_type": "code",
   "execution_count": 46,
   "id": "a268c303",
   "metadata": {},
   "outputs": [
    {
     "data": {
      "text/plain": [
       "'audi'"
      ]
     },
     "execution_count": 46,
     "metadata": {},
     "output_type": "execute_result"
    }
   ],
   "source": [
    "nano1.make"
   ]
  },
  {
   "cell_type": "code",
   "execution_count": 47,
   "id": "70457bee",
   "metadata": {},
   "outputs": [
    {
     "data": {
      "text/plain": [
       "'q7'"
      ]
     },
     "execution_count": 47,
     "metadata": {},
     "output_type": "execute_result"
    }
   ],
   "source": [
    "audiq71.model"
   ]
  }
 ],
 "metadata": {
  "kernelspec": {
   "display_name": "Python 3 (ipykernel)",
   "language": "python",
   "name": "python3"
  },
  "language_info": {
   "codemirror_mode": {
    "name": "ipython",
    "version": 3
   },
   "file_extension": ".py",
   "mimetype": "text/x-python",
   "name": "python",
   "nbconvert_exporter": "python",
   "pygments_lexer": "ipython3",
   "version": "3.9.13"
  }
 },
 "nbformat": 4,
 "nbformat_minor": 5
}
