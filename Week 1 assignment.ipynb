{
 "cells": [
  {
   "cell_type": "code",
   "execution_count": 8,
   "id": "15077360",
   "metadata": {},
   "outputs": [
    {
     "name": "stdout",
     "output_type": "stream",
     "text": [
      "Mukul mhatre EXTC'B''36' Week 1 - assignment.\n"
     ]
    }
   ],
   "source": [
    "print(\"Mukul mhatre EXTC'B''36' Week 1 - assignment.\")"
   ]
  },
  {
   "cell_type": "code",
   "execution_count": null,
   "id": "f3c25fdf",
   "metadata": {},
   "outputs": [],
   "source": [
    "#Assignment 1 section A"
   ]
  },
  {
   "cell_type": "code",
   "execution_count": 1,
   "id": "cc3732d7",
   "metadata": {},
   "outputs": [
    {
     "name": "stdout",
     "output_type": "stream",
     "text": [
      "hello python\n"
     ]
    }
   ],
   "source": [
    "#1. Write a Python program to print “Hello Python”\n",
    "print(\"hello python\")"
   ]
  },
  {
   "cell_type": "code",
   "execution_count": 2,
   "id": "065d7846",
   "metadata": {},
   "outputs": [
    {
     "name": "stdout",
     "output_type": "stream",
     "text": [
      "c= 8\n",
      "d= 1.6666666666666667\n"
     ]
    }
   ],
   "source": [
    "#2. Write a Python program to do arithmetical operations addition and division.?\n",
    "a=5\n",
    "b=3\n",
    "c=a+b\n",
    "d=a/b\n",
    "\n",
    "print (\"c=\",c)\n",
    "print (\"d=\",d)"
   ]
  },
  {
   "cell_type": "code",
   "execution_count": 1,
   "id": "27c776ca",
   "metadata": {},
   "outputs": [
    {
     "name": "stdout",
     "output_type": "stream",
     "text": [
      "The area of the triangle is 6.0000\n"
     ]
    }
   ],
   "source": [
    "#3. Write a Python program to find the area of a triangle?\n",
    "# Three sides of the triangle is a, b and c:  \n",
    "a=5\n",
    "b=3\n",
    "c=4\n",
    "# calculate the semi-perimeter  \n",
    "s = (a + b + c) / 2  \n",
    "  \n",
    "# calculate the area  \n",
    "area = (s*(s-a)*(s-b)*(s-c))**0.5  \n",
    "print('The area of the triangle is %0.4f' %area) "
   ]
  },
  {
   "cell_type": "code",
   "execution_count": 3,
   "id": "4fb89ef7",
   "metadata": {},
   "outputs": [
    {
     "name": "stdout",
     "output_type": "stream",
     "text": [
      "Enter value of x: 21\n",
      "Enter value of y: 31\n",
      "The value of x after swapping: 31\n",
      "The value of y after swapping: 21\n"
     ]
    }
   ],
   "source": [
    "#4. Write a Python program to swap two variables?\n",
    "x = input('Enter value of x: ')\n",
    "y = input('Enter value of y: ')\n",
    "temp = x\n",
    "x = y\n",
    "y = temp\n",
    "\n",
    "print('The value of x after swapping: {}'.format(x))\n",
    "print('The value of y after swapping: {}'.format(y))"
   ]
  },
  {
   "cell_type": "code",
   "execution_count": 2,
   "id": "24c8afcb",
   "metadata": {},
   "outputs": [
    {
     "name": "stdout",
     "output_type": "stream",
     "text": [
      "52\n"
     ]
    }
   ],
   "source": [
    "#5. Write a Python program to generate a random number?\n",
    "# Program to generate a random number between 0 and 100\n",
    "\n",
    "# importing the random module\n",
    "import random\n",
    "\n",
    "print(random.randint(0,100))"
   ]
  },
  {
   "cell_type": "code",
   "execution_count": null,
   "id": "19d8cc67",
   "metadata": {},
   "outputs": [],
   "source": [
    "#Assignment 1 section B"
   ]
  },
  {
   "cell_type": "code",
   "execution_count": 4,
   "id": "39214a02",
   "metadata": {},
   "outputs": [
    {
     "name": "stdout",
     "output_type": "stream",
     "text": [
      "Enter Kilometer:7.2\n",
      "The speed value in Miles: 4.4738712000000005\n"
     ]
    }
   ],
   "source": [
    "#1. Write a Python program to convert kilometers to miles?\n",
    "con_ratio= 0.621371\n",
    "km=float(input(\"Enter Kilometer:\"))\n",
    "mile = km*con_ratio\n",
    "print(\"The speed value in Miles:\",mile)"
   ]
  },
  {
   "cell_type": "code",
   "execution_count": 5,
   "id": "4d966630",
   "metadata": {},
   "outputs": [
    {
     "name": "stdout",
     "output_type": "stream",
     "text": [
      "Enter the temperature in celcius:7\n",
      "Temperature in farenheit is: 44.6\n"
     ]
    }
   ],
   "source": [
    "#2. Write a Python program to convert Celsius to Fahrenheit?\n",
    "celsius=int(input(\"Enter the temperature in celcius:\"))\n",
    "f=(celsius*1.8)+32\n",
    "print(\"Temperature in farenheit is:\",f)"
   ]
  },
  {
   "cell_type": "code",
   "execution_count": 7,
   "id": "ddaf5f7d",
   "metadata": {},
   "outputs": [
    {
     "name": "stdout",
     "output_type": "stream",
     "text": [
      "Enter Year: 2023\n",
      "Enter Month: 2\n",
      "   February 2023\n",
      "Mo Tu We Th Fr Sa Su\n",
      "       1  2  3  4  5\n",
      " 6  7  8  9 10 11 12\n",
      "13 14 15 16 17 18 19\n",
      "20 21 22 23 24 25 26\n",
      "27 28\n",
      "\n"
     ]
    }
   ],
   "source": [
    "#3. Write a Python program to display calendar?\n",
    "# Python Calender module\n",
    "\n",
    "import calendar\n",
    "\n",
    "# take year from user\n",
    "year = int(input(\"Enter Year: \"))\n",
    "\n",
    "# take month from user\n",
    "month = int(input(\"Enter Month: \"))\n",
    "\n",
    "# printing Calendar\n",
    "print(calendar.month(year,month))"
   ]
  },
  {
   "cell_type": "code",
   "execution_count": 8,
   "id": "2dcb0b8e",
   "metadata": {},
   "outputs": [
    {
     "name": "stdout",
     "output_type": "stream",
     "text": [
      "Enter the 1st Number 5\n",
      "Enter the 2nd Number 2\n",
      "Enter the 3rd Number 7\n",
      "Complex Roots\n",
      "-0.2  + i 11.661903789690601\n",
      "-0.2  - i 11.661903789690601\n"
     ]
    }
   ],
   "source": [
    "#4. Write a Python program to solve quadratic equation?\n",
    "import math \n",
    "  \n",
    "a=float(input(\"Enter the 1st Number \"))\n",
    "b=float(input(\"Enter the 2nd Number \"))\n",
    "c=float(input(\"Enter the 3rd Number \"))\n",
    "# function for finding roots\n",
    "def equationroots( a, b, c): \n",
    "  \n",
    "    # calculating discriminant using formula\n",
    "    dis = b * b - 4 * a * c \n",
    "    sqrt_val = math.sqrt(abs(dis)) \n",
    "      \n",
    "    # checking condition for discriminant\n",
    "    if dis > 0: \n",
    "        print(\" real and different roots \") \n",
    "        print((-b + sqrt_val)/(2 * a)) \n",
    "        print((-b - sqrt_val)/(2 * a)) \n",
    "      \n",
    "    elif dis == 0: \n",
    "        print(\" real and same roots\") \n",
    "        print(-b / (2 * a)) \n",
    "      \n",
    "    # when discriminant is less than 0\n",
    "    else:\n",
    "        print(\"Complex Roots\") \n",
    "        print(- b / (2 * a), \" + i\", sqrt_val) \n",
    "        print(- b / (2 * a), \" - i\", sqrt_val) \n",
    "  \n",
    "  \n",
    "# If a is 0, then incorrect equation\n",
    "if a == 0: \n",
    "        print(\"Input correct quadratic equation\") \n",
    "  \n",
    "else:\n",
    "    equationroots(a,b,c)"
   ]
  },
  {
   "cell_type": "code",
   "execution_count": 9,
   "id": "fdb560fe",
   "metadata": {},
   "outputs": [
    {
     "name": "stdout",
     "output_type": "stream",
     "text": [
      "Enter value of x: 10\n",
      "Enter value of y: 15\n",
      "x = 15\n",
      "y = 10\n"
     ]
    }
   ],
   "source": [
    "#5. Write a Python program to swap two variables without temp variable?\n",
    "x = input('Enter value of x: ')\n",
    "y = input('Enter value of y: ')\n",
    "x, y = y, x\n",
    "print(\"x =\",x)\n",
    "print(\"y =\",y)"
   ]
  },
  {
   "cell_type": "code",
   "execution_count": null,
   "id": "cdd9598a",
   "metadata": {},
   "outputs": [],
   "source": [
    "#Assignment 1 section C"
   ]
  },
  {
   "cell_type": "code",
   "execution_count": 2,
   "id": "40aebda4",
   "metadata": {},
   "outputs": [
    {
     "name": "stdout",
     "output_type": "stream",
     "text": [
      "Enter a number: -7\n",
      "Negative number\n"
     ]
    }
   ],
   "source": [
    "#1. Write a Python Program to Check if a Number is Positive, Negative or Zero?\n",
    "num=float(input(\"Enter a number: \"))\n",
    "if num > 0:\n",
    "   print(\"Positive number\")\n",
    "elif num == 0:\n",
    "   print(\"Zero\")\n",
    "else:\n",
    "   print(\"Negative number\")\n"
   ]
  },
  {
   "cell_type": "code",
   "execution_count": 3,
   "id": "ac4f03bd",
   "metadata": {},
   "outputs": [
    {
     "name": "stdout",
     "output_type": "stream",
     "text": [
      "ENTER THE NUMBER  54\n",
      "NUMBER IS EVEN\n"
     ]
    }
   ],
   "source": [
    "#2. Write a Python Program to Check if a Number is Odd or Even?\n",
    "def check(NUM):\n",
    "    if (NUM%2)==0:\n",
    "        print (\"NUMBER IS EVEN\")\n",
    "    else:\n",
    "        print(\"NUMBER IS ODD\")\n",
    "X=int(input(\"ENTER THE NUMBER  \"))\n",
    "Y= check(X)"
   ]
  },
  {
   "cell_type": "code",
   "execution_count": 4,
   "id": "2e75ca3e",
   "metadata": {},
   "outputs": [
    {
     "name": "stdout",
     "output_type": "stream",
     "text": [
      "The year is leap year\n",
      "The year is not a leap year\n"
     ]
    }
   ],
   "source": [
    "#3. Write a Python Program to Check Leap Year?\n",
    "def chk_leap(num):\n",
    "    if num%4==0 and num%100!=0 or num%400==0:\n",
    "        return 'The year is leap year'\n",
    "    else:\n",
    "        return 'The year is not a leap year'\n",
    "a = chk_leap(2004)\n",
    "b = chk_leap(2023)\n",
    "print(a)\n",
    "print(b)"
   ]
  },
  {
   "cell_type": "code",
   "execution_count": 5,
   "id": "8712ab33",
   "metadata": {},
   "outputs": [
    {
     "name": "stdout",
     "output_type": "stream",
     "text": [
      "Enter any number: 64\n",
      "64 is not a prime number\n"
     ]
    }
   ],
   "source": [
    "#4. Write a Python Program to Check Prime Number?\n",
    "number = int(input(\"Enter any number: \"))\n",
    "if number > 1:\n",
    "    for i in range(2, number):\n",
    "        if (number % i) == 0:\n",
    "            print(number, \"is not a prime number\")\n",
    "            break\n",
    "    else:\n",
    "        print(number, \"is a prime number\")\n",
    "else:\n",
    "    print(number, \"is not a prime number\")"
   ]
  },
  {
   "cell_type": "code",
   "execution_count": 7,
   "id": "cbb6beb6",
   "metadata": {},
   "outputs": [
    {
     "name": "stdout",
     "output_type": "stream",
     "text": [
      "Enter any number: 100\n",
      "Enter any number: 150\n",
      "Prime numbers between 100 and 150 are:\n",
      "101\n",
      "103\n",
      "107\n",
      "109\n",
      "113\n",
      "127\n",
      "131\n",
      "137\n",
      "139\n",
      "149\n"
     ]
    }
   ],
   "source": [
    "#5. Write a Python Program to Print all Prime Numbers in an Interval of 1-10000?\n",
    "lower = int(input(\"Enter any number: \"))\n",
    "upper = int(input(\"Enter any number: \"))\n",
    "print(\"Prime numbers between\", lower, \"and\", upper, \"are:\")\n",
    "for num in range(lower, upper + 1):\n",
    "   # all prime numbers are greater than 1\n",
    "   if num > 1:\n",
    "       for i in range(2, num):\n",
    "           if (num % i) == 0:\n",
    "               break\n",
    "       else:\n",
    "           print(num)"
   ]
  },
  {
   "cell_type": "code",
   "execution_count": null,
   "id": "ebe91d14",
   "metadata": {},
   "outputs": [],
   "source": [
    "#Assignment 1 section D"
   ]
  },
  {
   "cell_type": "code",
   "execution_count": 8,
   "id": "27e5fe81",
   "metadata": {},
   "outputs": [
    {
     "name": "stdout",
     "output_type": "stream",
     "text": [
      "Enter number:31\n",
      "Factorial of the number is: \n",
      "8222838654177922817725562880000000\n"
     ]
    }
   ],
   "source": [
    "#1. Write a Python Program to Find the Factorial of a Number?\n",
    "n=int(input(\"Enter number:\"))\n",
    "fact=1\n",
    "while(n>0):\n",
    "    fact=fact*n\n",
    "    n=n-1\n",
    "print(\"Factorial of the number is: \")\n",
    "print(fact)"
   ]
  },
  {
   "cell_type": "code",
   "execution_count": 10,
   "id": "eb5be03f",
   "metadata": {},
   "outputs": [
    {
     "name": "stdout",
     "output_type": "stream",
     "text": [
      "Enter the number of which the user wants to print the multiplication table: 12\n",
      "The Multiplication Table of:  12\n",
      "12 x 1 = 12\n",
      "12 x 2 = 24\n",
      "12 x 3 = 36\n",
      "12 x 4 = 48\n",
      "12 x 5 = 60\n",
      "12 x 6 = 72\n",
      "12 x 7 = 84\n",
      "12 x 8 = 96\n",
      "12 x 9 = 108\n",
      "12 x 10 = 120\n"
     ]
    }
   ],
   "source": [
    "#2. Write a Python Program to Display the multiplication Table?\n",
    "number = int(input (\"Enter the number of which the user wants to print the multiplication table: \"))      \n",
    "# We are using \"for loop\" to iterate the multiplication 10 times       \n",
    "print (\"The Multiplication Table of: \", number)    \n",
    "for count in range(1, 11):      \n",
    "   print (number, 'x', count, '=', number * count)    "
   ]
  },
  {
   "cell_type": "code",
   "execution_count": 11,
   "id": "6c692875",
   "metadata": {},
   "outputs": [
    {
     "name": "stdout",
     "output_type": "stream",
     "text": [
      "How many terms? 2\n",
      "Fibonacci sequence:\n",
      "0\n",
      "1\n"
     ]
    }
   ],
   "source": [
    "#3. Write a Python Program to Print the Fibonacci sequence?\n",
    "nterms = int(input(\"How many terms? \"))\n",
    "\n",
    "# first two terms\n",
    "n1, n2 = 0, 1\n",
    "count = 0\n",
    "\n",
    "# check if the number of terms is valid\n",
    "if nterms <= 0:\n",
    "   print(\"Please enter a positive integer\")\n",
    "# if there is only one term, return n1\n",
    "elif nterms == 1:\n",
    "   print(\"Fibonacci sequence upto\",nterms,\":\")\n",
    "   print(n1)\n",
    "# generate fibonacci sequence\n",
    "else:\n",
    "   print(\"Fibonacci sequence:\")\n",
    "   while count < nterms:\n",
    "       print(n1)\n",
    "       nth = n1 + n2\n",
    "       # update values\n",
    "       n1 = n2\n",
    "       n2 = nth\n",
    "       count += 1"
   ]
  },
  {
   "cell_type": "code",
   "execution_count": 12,
   "id": "aa774a6f",
   "metadata": {},
   "outputs": [
    {
     "name": "stdout",
     "output_type": "stream",
     "text": [
      "Enter a number: 5\n",
      "5 is not an Armstrong number\n"
     ]
    }
   ],
   "source": [
    "#4. Write a Python Program to Check Armstrong Number?\n",
    "# take input from the user\n",
    "num = int(input(\"Enter a number: \"))\n",
    "\n",
    "# initialize sum\n",
    "sum = 0\n",
    "\n",
    "# find the sum of the cube of each digit\n",
    "temp = num\n",
    "while temp > 0:\n",
    "   digit = temp % 10\n",
    "   sum += digit ** 3\n",
    "\n",
    "   temp //= 10\n",
    "\n",
    "# display the result\n",
    "if num == sum:\n",
    "   print(num,\"is an Armstrong number\")\n",
    "else:\n",
    "   print(num,\"is not an Armstrong number\")"
   ]
  },
  {
   "cell_type": "code",
   "execution_count": 14,
   "id": "18a4f2f4",
   "metadata": {},
   "outputs": [
    {
     "name": "stdout",
     "output_type": "stream",
     "text": [
      "Enter any number: 12\n",
      "Enter any number: 17\n"
     ]
    }
   ],
   "source": [
    "#5. Write a Python Program to Find Armstrong Number in an Interval?\n",
    "lower = int(input(\"Enter any number: \"))\n",
    "upper = int(input(\"Enter any number: \"))\n",
    "for num in range(lower, upper + 1):\n",
    "\n",
    "   # order of number\n",
    "   order = len(str(num))\n",
    "    \n",
    "   # initialize sum\n",
    "   sum = 0\n",
    "\n",
    "   temp = num\n",
    "   while temp > 0:\n",
    "       digit = temp % 10\n",
    "       sum += digit ** order\n",
    "       temp //= 10\n",
    "\n",
    "   if num == sum:\n",
    "       print(num)\n"
   ]
  },
  {
   "cell_type": "code",
   "execution_count": 15,
   "id": "ddeb6c77",
   "metadata": {},
   "outputs": [
    {
     "name": "stdout",
     "output_type": "stream",
     "text": [
      "Enter a Number:70\n",
      "The sum is 2485\n"
     ]
    }
   ],
   "source": [
    "#6. Write a Python Program to Find the Sum of Natural Numbers?\n",
    "num =int(input(\"Enter a Number:\"))\n",
    "\n",
    "if num < 0:\n",
    "   print(\"Enter a positive number\")\n",
    "else:\n",
    "   sum = 0\n",
    "   # use while loop to iterate until zero\n",
    "   while(num > 0):\n",
    "       sum += num\n",
    "       num -= 1\n",
    "   print(\"The sum is\",sum)"
   ]
  },
  {
   "cell_type": "code",
   "execution_count": null,
   "id": "085479d0",
   "metadata": {},
   "outputs": [],
   "source": [
    "#Assignment 1 section E"
   ]
  },
  {
   "cell_type": "code",
   "execution_count": 16,
   "id": "45c1a532",
   "metadata": {},
   "outputs": [
    {
     "name": "stdout",
     "output_type": "stream",
     "text": [
      "Sum of the array is  123\n"
     ]
    }
   ],
   "source": [
    "#1. Write a Python Program to find sum of array?\n",
    "def _sum(arr):\n",
    " \n",
    "    # initialize a variable\n",
    "    # to store the sum\n",
    "    # while iterating through\n",
    "    # the array later\n",
    "    sum = 0\n",
    " \n",
    "    # iterate through the array\n",
    "    # and add each element to the sum variable\n",
    "    # one at a time\n",
    "    for i in arr:\n",
    "        sum = sum + i\n",
    " \n",
    "    return(sum)\n",
    " \n",
    " \n",
    "# driver function\n",
    "arr = []\n",
    "# input values to list\n",
    "arr = [44, 23, 41, 15]\n",
    " \n",
    "# calculating length of array\n",
    "n = len(arr)\n",
    " \n",
    "ans = _sum(arr)\n",
    " \n",
    "# display sum\n",
    "print('Sum of the array is ',ans)"
   ]
  },
  {
   "cell_type": "code",
   "execution_count": 17,
   "id": "c961786f",
   "metadata": {},
   "outputs": [
    {
     "name": "stdout",
     "output_type": "stream",
     "text": [
      "Largest in given array  890\n"
     ]
    }
   ],
   "source": [
    "#2. Write a Python Program to find largest element in an array?\n",
    "def largest(arr, n):\n",
    " \n",
    "    # Initialize maximum element\n",
    "    max = arr[0]\n",
    " \n",
    "    # Traverse array elements from second\n",
    "    # and compare every element with\n",
    "    # current max\n",
    "    for i in range(1, n):\n",
    "        if arr[i] > max:\n",
    "            max = arr[i]\n",
    "    return max\n",
    " \n",
    " \n",
    "# Driver Code\n",
    "arr = [58, 890, 22, 65, 23]\n",
    "n = len(arr)\n",
    "Ans = largest(arr, n)\n",
    "print(\"Largest in given array \",Ans)"
   ]
  },
  {
   "cell_type": "code",
   "execution_count": 18,
   "id": "7e0e1d32",
   "metadata": {},
   "outputs": [
    {
     "name": "stdout",
     "output_type": "stream",
     "text": [
      "Original array: [1, 2, 3, 4, 5, 6, 7, 8]\n",
      "Rotated array:  [2, 3, 4, 5, 6, 7, 1, 8]\n"
     ]
    }
   ],
   "source": [
    "#3. Write a Python Program for array rotation?\n",
    "#Function reverse the given array by swapping first and last numbers.\n",
    "def reverse(start,end,arr):\n",
    " \n",
    "    #No of iterations needed for reversing the list\n",
    "    no_of_reverse=end-start+1\n",
    " \n",
    "    #By incrementing count value swapping of first and last elements is done.\n",
    "    count=0\n",
    "    while((no_of_reverse)//2!=count):\n",
    "        arr[start+count],arr[end-count]=arr[end-count],arr[start+count]\n",
    "        count+=1\n",
    "    return arr\n",
    " \n",
    "#Function takes array, length of array and no of rotations as input\n",
    "def left_rotate_array(arr,size,d):\n",
    " \n",
    "    #Reverse the Entire List\n",
    "    start=0\n",
    "    end=size-1\n",
    "    arr=reverse(start,end,arr)\n",
    "     \n",
    "    #Divide array into twosub-array based on no of rotations.\n",
    "    #Divide First sub-array\n",
    "    #Reverse the First sub-array\n",
    "    start=0\n",
    "    end=size-d-1\n",
    "    arr=reverse(start,end,arr)\n",
    "     \n",
    "    #Divide Second sub-array\n",
    "    #Reverse the Second sub-array\n",
    "    start=size-d\n",
    "    end=size-1\n",
    "    arr=reverse(start,end,arr)\n",
    "    return arr\n",
    "     \n",
    "arr=[1,2,3,4,5,6,7,8]\n",
    "size=7\n",
    "d=1\n",
    "print('Original array:',arr)\n",
    " \n",
    "#Finding all the symmetric rotation number\n",
    "if(d<=size):\n",
    "    print('Rotated array: ',left_rotate_array(arr,size,d))\n",
    "else:\n",
    "    d=d%size\n",
    "    print('Rotated array: ',left_rotate_array(arr,size,d))"
   ]
  },
  {
   "cell_type": "code",
   "execution_count": 19,
   "id": "c9e6c366",
   "metadata": {},
   "outputs": [
    {
     "name": "stdout",
     "output_type": "stream",
     "text": [
      "6 52 36 12 10 5 "
     ]
    }
   ],
   "source": [
    "#4. Write a Python Program to Split the array and add the first part to the end?\n",
    "def splitArr(arr, n, k):\n",
    "    for i in range(0, k):\n",
    "        x = arr[0]\n",
    "        for j in range(0, n-1):\n",
    "            arr[j] = arr[j + 1]\n",
    "         \n",
    "        arr[n-1] = x\n",
    "         \n",
    " \n",
    "# main\n",
    "arr = [12, 10, 5, 6, 52, 36]\n",
    "n = len(arr)\n",
    "position = 3\n",
    " \n",
    "splitArr(arr, n, position)\n",
    " \n",
    "for i in range(0, n):\n",
    "    print(arr[i],end=' ')"
   ]
  },
  {
   "cell_type": "code",
   "execution_count": 20,
   "id": "3755d1ea",
   "metadata": {},
   "outputs": [
    {
     "name": "stdout",
     "output_type": "stream",
     "text": [
      "True\n"
     ]
    }
   ],
   "source": [
    "#5. Write a Python Program to check if given array is Monotonic?\n",
    "def isMonotonic(A):\n",
    "    x, y = [], []\n",
    "    x.extend(A)\n",
    "    y.extend(A)\n",
    "    x.sort()\n",
    "    y.sort(reverse=True)\n",
    "    if(x == A or y == A):\n",
    "        return True\n",
    "    return False\n",
    " \n",
    " \n",
    "# Driver program\n",
    "A = [6, 5, 4, 4]\n",
    " \n",
    "# Print required result\n",
    "print(isMonotonic(A))"
   ]
  },
  {
   "cell_type": "code",
   "execution_count": null,
   "id": "dd614db3",
   "metadata": {},
   "outputs": [],
   "source": [
    "#Assignment 1 section F"
   ]
  },
  {
   "cell_type": "code",
   "execution_count": 21,
   "id": "8d0cd3de",
   "metadata": {},
   "outputs": [
    {
     "name": "stdout",
     "output_type": "stream",
     "text": [
      "Sum of all elements in given list:  234\n"
     ]
    }
   ],
   "source": [
    "#1. Write a Python program to find sum of elements in list?\n",
    "total = 0\n",
    "# creating a list\n",
    "list1 = [11, 5, 177, 18, 23]\n",
    "\n",
    "# Iterate each element in list\n",
    "# and add them in variable total\n",
    "for ele in range(0, len(list1)):\n",
    "    total = total + list1[ele]\n",
    "\n",
    "# printing total value\n",
    "print(\"Sum of all elements in given list: \",total)"
   ]
  },
  {
   "cell_type": "code",
   "execution_count": 23,
   "id": "95ee3c98",
   "metadata": {},
   "outputs": [
    {
     "name": "stdout",
     "output_type": "stream",
     "text": [
      "The list is: [2, 51, -344, 7, 4, 85, -56]\n",
      "The product is: \n",
      "381561344\n"
     ]
    }
   ],
   "source": [
    "#2. Write a Python program to Multiply all numbers in the list?\n",
    "import numpy\n",
    "def multiply_numbers(list):\n",
    "   return numpy.prod(list)\n",
    "given_list = [2,51,-344,7,4,85,-56]\n",
    "print('The list is:',given_list)\n",
    "print(\"The product is: \")\n",
    "print(multiply_numbers(given_list))"
   ]
  },
  {
   "cell_type": "code",
   "execution_count": 24,
   "id": "094b26a3",
   "metadata": {},
   "outputs": [
    {
     "name": "stdout",
     "output_type": "stream",
     "text": [
      "Enter the number of elements in list: 11\n",
      "Enter elements: 12\n",
      "Enter elements: 13\n",
      "Enter elements: 12\n",
      "Enter elements: 25\n",
      "Enter elements: 14\n",
      "Enter elements: 10\n",
      "Enter elements: 9\n",
      "Enter elements: 2\n",
      "Enter elements: 15\n",
      "Enter elements: 23\n",
      "Enter elements: 21\n",
      "Smallest element is: 2\n"
     ]
    }
   ],
   "source": [
    "#3. Write a Python program to find smallest number in a list?\n",
    "number=[]\n",
    "\n",
    "#asking number of elements to add in the list\n",
    "n=int(input(\"Enter the number of elements in list: \"))\n",
    "\n",
    "for i in range(1, n + 1):\n",
    "    element=int(input(\"Enter elements: \"))\n",
    "    number.append(element)\n",
    "        \n",
    "#sort the list\n",
    "number.sort()\n",
    "print(\"Smallest element is:\",number[0])"
   ]
  },
  {
   "cell_type": "code",
   "execution_count": 1,
   "id": "2f4dc022",
   "metadata": {},
   "outputs": [
    {
     "name": "stdout",
     "output_type": "stream",
     "text": [
      "Enter the number of elements in list: 5\n",
      "Enter elements: 5\n",
      "Enter elements: 5\n",
      "Enter elements: 54\n",
      "Enter elements: 52\n",
      "Enter elements: 54\n",
      "Largest element is: 54\n"
     ]
    }
   ],
   "source": [
    "#4. Write a Python program to find largest number in a list?\n",
    "number=[]\n",
    "\n",
    "#asking number of elements to add in the list\n",
    "n=int(input(\"Enter the number of elements in list: \"))\n",
    "\n",
    "for i in range(1, n + 1):\n",
    "    element=int(input(\"Enter elements: \"))\n",
    "    number.append(element)\n",
    "        \n",
    "#sort the list\n",
    "number.sort()\n",
    "print(\"Largest element is:\",number[n-1])"
   ]
  },
  {
   "cell_type": "code",
   "execution_count": 1,
   "id": "8a252e25",
   "metadata": {},
   "outputs": [
    {
     "name": "stdout",
     "output_type": "stream",
     "text": [
      "Enter the number of elements in list: 6\n",
      "Enter elements: 25\n",
      "Enter elements: 25\n",
      "Enter elements: 15\n",
      "Enter elements: 258\n",
      "Enter elements: 255\n",
      "Enter elements: 25\n",
      "Second Largest element is: 255\n"
     ]
    }
   ],
   "source": [
    "#5. Write a Python program to find second largest number in a list?\n",
    "number=[]\n",
    "\n",
    "#asking number of elements to add in the list\n",
    "n=int(input(\"Enter the number of elements in list: \"))\n",
    "\n",
    "for i in range(1, n + 1):\n",
    "    element=int(input(\"Enter elements: \"))\n",
    "    number.append(element)\n",
    "        \n",
    "#sort the list\n",
    "number.sort()\n",
    "print(\"Second Largest element is:\",number[n-2])"
   ]
  },
  {
   "cell_type": "code",
   "execution_count": 2,
   "id": "3be18e0b",
   "metadata": {},
   "outputs": [
    {
     "name": "stdout",
     "output_type": "stream",
     "text": [
      "[670, 605, 461, 110]\n"
     ]
    }
   ],
   "source": [
    "#6. Write a Python program to find N largest elements from a list?\n",
    "# Function returns N largest elements\n",
    "def Nmaxelements(list1, N):\n",
    "    final_list = []\n",
    "\n",
    "    for i in range(0, N):\n",
    "        max1 = 0\n",
    "        \n",
    "        for j in range(len(list1)):\t\n",
    "            if list1[j] > max1:\n",
    "                max1 = list1[j];\n",
    "                \n",
    "        list1.remove(max1);\n",
    "        final_list.append(max1)\n",
    "\n",
    "    print(final_list)\n",
    "\n",
    "# Driver code\n",
    "list1 = [23, 605, 461, 85, 670, 33, 74, 6, 110]\n",
    "N = 4\n",
    "\n",
    "# Calling the function\n",
    "Nmaxelements(list1, N)"
   ]
  },
  {
   "cell_type": "code",
   "execution_count": 3,
   "id": "5f2b4a4d",
   "metadata": {},
   "outputs": [
    {
     "name": "stdout",
     "output_type": "stream",
     "text": [
      "2122 412 "
     ]
    }
   ],
   "source": [
    "#7. Write a Python program to print even numbers in a list?\n",
    "# list of numbers\n",
    "list1 = [1045, 2122, 412, 45, 89, 93]\n",
    " \n",
    "# iterating each number in list\n",
    "for num in list1:\n",
    "     \n",
    "    # checking condition\n",
    "    if num % 2 == 0:\n",
    "       print(num, end = \" \")\n"
   ]
  },
  {
   "cell_type": "code",
   "execution_count": 4,
   "id": "66dbd51a",
   "metadata": {},
   "outputs": [
    {
     "name": "stdout",
     "output_type": "stream",
     "text": [
      "1045 45 89 93 "
     ]
    }
   ],
   "source": [
    "#8. Write a Python program to print odd numbers in a List?\n",
    "list1 = [1045, 2122, 412, 45, 89, 93]\n",
    " \n",
    "# iterating each number in list\n",
    "for num in list1:\n",
    "     \n",
    "    # checking condition\n",
    "    if num % 2 == 1:\n",
    "       print(num, end = \" \")"
   ]
  },
  {
   "cell_type": "code",
   "execution_count": 5,
   "id": "a87e13e3",
   "metadata": {},
   "outputs": [
    {
     "name": "stdout",
     "output_type": "stream",
     "text": [
      "The List : [4, [], 98, 'supra', [], 28, 8, [], 39]\n",
      "The list after removing empty lists\n",
      "[4, 98, 'supra', 28, 8, 39]\n"
     ]
    }
   ],
   "source": [
    "#9. Write a Python program to Remove empty List from List?\n",
    "lst = [4,[],98,'supra',[],28,8,[],39]\n",
    "print(\"The List :\",lst)\n",
    "removedlist = [ele for ele in lst if ele != []]\n",
    "print(\"The list after removing empty lists\")\n",
    "print(removedlist)"
   ]
  },
  {
   "cell_type": "code",
   "execution_count": 6,
   "id": "e9541d9a",
   "metadata": {},
   "outputs": [
    {
     "name": "stdout",
     "output_type": "stream",
     "text": [
      "Enter the length of your list : 2\n",
      "52\n",
      "52\n",
      "The List is  [52, 52]\n",
      "The cloned/copied list :\n",
      "Cloning By list slicing lst[:]  [52, 52]\n",
      "Cloning By list copying lst.copy()  [52, 52]\n",
      "Cloning By list Comprahention  [52, 52]\n"
     ]
    }
   ],
   "source": [
    "#10. Write a Python program to Cloning or Copying a list?\n",
    "n = int(input(\"Enter the length of your list : \"))\n",
    "lst = []\n",
    "\n",
    "for i in range(n):\n",
    "    lst.append(int(input()))\n",
    "print(\"The List is \",lst)\n",
    "\n",
    "print(\"The cloned/copied list :\")\n",
    "\n",
    "lstcopy = lst[:]\n",
    "print(\"Cloning By list slicing lst[:] \",lstcopy)\n",
    "#method2\n",
    "lst2 = lst.copy()\n",
    "print(\"Cloning By list copying lst.copy() \",lst2)\n",
    "\n",
    "\n",
    "#Method3\n",
    "lstcomprah = [i for i in lst]\n",
    "print(\"Cloning By list Comprahention \",lstcomprah)\n",
    "\n",
    "\n",
    "#method4\n",
    "lstappend=[]\n",
    "for i in lst : lstappend.append(i)"
   ]
  },
  {
   "cell_type": "code",
   "execution_count": 7,
   "id": "98de4489",
   "metadata": {},
   "outputs": [
    {
     "name": "stdout",
     "output_type": "stream",
     "text": [
      "Enter the lenth of your list : 5\n",
      "256\n",
      "24\n",
      "12\n",
      "256\n",
      "74\n",
      "The List is  [256, 24, 12, 256, 74]\n",
      "Enter the element to find its occurance : 256\n",
      "256 has occured 2 times in the list \n"
     ]
    }
   ],
   "source": [
    "#11. Write a Python program to Count occurrences of an element in a list?\n",
    "n = int(input(\"Enter the lenth of your list : \"))\n",
    "lst = []\n",
    "\n",
    "for i in range(n):\n",
    "    lst.append(int(input()))\n",
    "print(\"The List is \",lst)\n",
    "ele= int(input(\"Enter the element to find its occurance : \"))\n",
    "print(ele,\"has occured {} times in the list \".format(lst.count(ele)))"
   ]
  }
 ],
 "metadata": {
  "kernelspec": {
   "display_name": "Python 3 (ipykernel)",
   "language": "python",
   "name": "python3"
  },
  "language_info": {
   "codemirror_mode": {
    "name": "ipython",
    "version": 3
   },
   "file_extension": ".py",
   "mimetype": "text/x-python",
   "name": "python",
   "nbconvert_exporter": "python",
   "pygments_lexer": "ipython3",
   "version": "3.9.13"
  }
 },
 "nbformat": 4,
 "nbformat_minor": 5
}
